{
 "cells": [
  {
   "cell_type": "code",
   "execution_count": 82,
   "metadata": {
    "pycharm": {
     "is_executing": false
    }
   },
   "outputs": [],
   "source": [
    "import re\n",
    "import nltk\n",
    "from nltk.tokenize import word_tokenize\n",
    "from nltk.stem import PorterStemmer\n",
    "from nltk.stem import WordNetLemmatizer\n",
    "from nltk.corpus import stopwords\n",
    "\n",
    "from nltk.util import bigrams, trigrams, ngrams\n",
    "\n",
    "from collections import Counter"
   ]
  },
  {
   "cell_type": "code",
   "execution_count": 61,
   "metadata": {
    "pycharm": {
     "is_executing": false,
     "name": "#%%\n"
    }
   },
   "outputs": [],
   "source": [
    "text_file = open('C:/Users/jsbae/Downloads/Qualcomm text data/QCOM_0000804328_10Q_20171224_AllItems_excerpt.txt', encoding='utf-8').read()\n",
    "condensed_text = text_file[0:3000]"
   ]
  },
  {
   "cell_type": "code",
   "execution_count": 77,
   "metadata": {
    "pycharm": {
     "is_executing": false,
     "name": "#%%\n"
    }
   },
   "outputs": [
    {
     "name": "stdout",
     "output_type": "stream",
     "text": [
      "Total tokenized words: 431\n",
      "Total stemmed words: 431\n",
      "Total lemmatized words: 431\n",
      "Total tokenized (w/out stop words) words: 280\n",
      "Stemmed text:\n",
      "['document', 'unit', 'state', 'secur', 'and', 'exchang', 'commiss', 'washington', 'D', 'C', 'form', 'Q', 'mark', 'one', 'xquarterli', 'report', 'pursuant', 'TO', 'section', 'OR', 'd', 'OF', 'the', 'secur', 'exchang', 'act', 'OF', 'for', 'the', 'quarterli', 'period', 'end', 'decemb', 'OR', 'otransit', 'report', 'pursuant', 'TO', 'section', 'OR', 'd', 'OF', 'the', 'secur', 'exchang', 'act', 'OF', 'for', 'the', 'transit', 'period', 'from', 'to', 'commiss', 'file', 'number', 'qualcomm', 'incorpor', 'exact', 'name', 'of', 'registr', 'as', 'specifi', 'in', 'it', 'charter', 'data', 'tabl', 'remov', 'registr', 's', 'telephon', 'number', 'includ', 'area', 'code', 'indic', 'by', 'check', 'mark', 'whether', 'the', 'registr', 'ha', 'file', 'all', 'report', 'requir', 'to', 'be', 'file', 'by', 'section', 'or', 'd', 'of', 'the', 'secur', 'exchang', 'act', 'of', 'dure', 'the', 'preced', 'month', 'or', 'for', 'such', 'shorter', 'period', 'that', 'the', 'registr', 'wa', 'requir', 'to', 'file', 'such', 'report', 'and', 'ha', 'been', 'subject', 'to', 'such', 'file', 'requir', 'for', 'the', 'past', 'day', 'ye', 'x', 'No', 'indic', 'by', 'check', 'mark', 'whether', 'the', 'registr', 'ha', 'submit', 'electron', 'and', 'post', 'on', 'it', 'corpor', 'web', 'site', 'if', 'ani', 'everi', 'interact', 'data', 'file', 'requir', 'to', 'be', 'submit', 'and', 'post', 'pursuant', 'to', 'rule', 'of', 'regul', 'S', 'T', 'of', 'thi', 'chapter', 'dure', 'the', 'preced', 'month', 'or', 'for', 'such', 'shorter', 'period', 'that', 'the', 'registr', 'wa', 'requir', 'to', 'submit', 'and', 'post', 'such', 'file', 'ye', 'x', 'No', 'indic', 'by', 'check', 'mark', 'whether', 'the', 'registr', 'is', 'a', 'larg', 'acceler', 'filer', 'an', 'acceler', 'filer', 'a', 'non', 'acceler', 'filer', 'smaller', 'report', 'compani', 'or', 'an', 'emerg', 'growth', 'compani', 'see', 'the', 'definit', 'of', 'larg', 'acceler', 'filer', 'acceler', 'filer', 'smaller', 'report', 'compani', 'and', 'emerg', 'growth', 'compani', 'in', 'rule', 'b', 'of', 'the', 'exchang', 'act', 'check', 'one', 'data', 'tabl', 'remov', 'If', 'an', 'emerg', 'growth', 'compani', 'indic', 'by', 'check', 'mark', 'if', 'the', 'registr', 'ha', 'elect', 'not', 'to', 'use', 'the', 'extend', 'transit', 'period', 'for', 'compli', 'with', 'ani', 'new', 'or', 'revis', 'financi', 'account', 'standard', 'provid', 'pursuant', 'to', 'section', 'a', 'of', 'the', 'exchang', 'act', 'indic', 'by', 'check', 'mark', 'whether', 'the', 'registr', 'is', 'a', 'shell', 'compani', 'as', 'defin', 'in', 'rule', 'b', 'of', 'the', 'exchang', 'act', 'ye', 'No', 'x', 'indic', 'the', 'number', 'of', 'share', 'outstand', 'of', 'each', 'of', 'the', 'issuer', 's', 'class', 'of', 'common', 'stock', 'as', 'of', 'the', 'latest', 'practic', 'date', 'the', 'number', 'of', 'share', 'outstand', 'of', 'each', 'of', 'the', 'issuer', 's', 'class', 'of', 'common', 'stock', 'as', 'of', 'the', 'close', 'of', 'busi', 'on', 'januari', 'wa', 'as', 'follow', 'class', 'number', 'of', 'share', 'common', 'stock', 'per', 'share', 'par', 'valu', 'qualcomm', 'incorpor', 'form', 'Q', 'for', 'the', 'quarter', 'end', 'decemb', 'data', 'tabl', 'remov', 'part', 'I', 'financi', 'inform', 'item', 'condens', 'consolid', 'financi', 'statement', 'unaudit', 'qualcomm', 'incorpor', 'condens', 'consolid', 'balanc', 'sheet', 'In', 'million', 'except', 'per', 'share', 'data', 'unaudit', 'data', 'tabl', 'remov', 'see', 'accompani', 'note', 'qualcomm', 'incorpor', 'condens', 'consolid', 'statement', 'OF', 'oper', 'In', 'million', 'except', 'per', 'share', 'data', 'unaudit', 'data', 'tabl', 'remov']\n",
      "\n",
      "Lemmatized text:\n",
      "['Document', 'UNITED', 'STATES', 'SECURITIES', 'AND', 'EXCHANGE', 'COMMISSION', 'WASHINGTON', 'D', 'C', 'FORM', 'Q', 'Mark', 'one', 'xQUARTERLY', 'REPORT', 'PURSUANT', 'TO', 'SECTION', 'OR', 'd', 'OF', 'THE', 'SECURITIES', 'EXCHANGE', 'ACT', 'OF', 'For', 'the', 'quarterly', 'period', 'ended', 'December', 'OR', 'oTRANSITION', 'REPORT', 'PURSUANT', 'TO', 'SECTION', 'OR', 'd', 'OF', 'THE', 'SECURITIES', 'EXCHANGE', 'ACT', 'OF', 'For', 'the', 'transition', 'period', 'from', 'to', 'Commission', 'File', 'Number', 'QUALCOMM', 'Incorporated', 'Exact', 'name', 'of', 'registrant', 'a', 'specified', 'in', 'it', 'charter', 'DATA', 'TABLE', 'REMOVED', 'Registrant', 's', 'telephone', 'number', 'including', 'area', 'code', 'Indicate', 'by', 'check', 'mark', 'whether', 'the', 'registrant', 'ha', 'filed', 'all', 'report', 'required', 'to', 'be', 'filed', 'by', 'Section', 'or', 'd', 'of', 'the', 'Securities', 'Exchange', 'Act', 'of', 'during', 'the', 'preceding', 'month', 'or', 'for', 'such', 'shorter', 'period', 'that', 'the', 'registrant', 'wa', 'required', 'to', 'file', 'such', 'report', 'and', 'ha', 'been', 'subject', 'to', 'such', 'filing', 'requirement', 'for', 'the', 'past', 'day', 'Yes', 'x', 'No', 'Indicate', 'by', 'check', 'mark', 'whether', 'the', 'registrant', 'ha', 'submitted', 'electronically', 'and', 'posted', 'on', 'it', 'corporate', 'Web', 'site', 'if', 'any', 'every', 'Interactive', 'Data', 'File', 'required', 'to', 'be', 'submitted', 'and', 'posted', 'pursuant', 'to', 'Rule', 'of', 'Regulation', 'S', 'T', 'of', 'this', 'chapter', 'during', 'the', 'preceding', 'month', 'or', 'for', 'such', 'shorter', 'period', 'that', 'the', 'registrant', 'wa', 'required', 'to', 'submit', 'and', 'post', 'such', 'file', 'Yes', 'x', 'No', 'Indicate', 'by', 'check', 'mark', 'whether', 'the', 'registrant', 'is', 'a', 'large', 'accelerated', 'filer', 'an', 'accelerated', 'filer', 'a', 'non', 'accelerated', 'filer', 'smaller', 'reporting', 'company', 'or', 'an', 'emerging', 'growth', 'company', 'See', 'the', 'definition', 'of', 'large', 'accelerated', 'filer', 'accelerated', 'filer', 'smaller', 'reporting', 'company', 'and', 'emerging', 'growth', 'company', 'in', 'Rule', 'b', 'of', 'the', 'Exchange', 'Act', 'Check', 'one', 'DATA', 'TABLE', 'REMOVED', 'If', 'an', 'emerging', 'growth', 'company', 'indicate', 'by', 'check', 'mark', 'if', 'the', 'registrant', 'ha', 'elected', 'not', 'to', 'use', 'the', 'extended', 'transition', 'period', 'for', 'complying', 'with', 'any', 'new', 'or', 'revised', 'financial', 'accounting', 'standard', 'provided', 'pursuant', 'to', 'Section', 'a', 'of', 'the', 'Exchange', 'Act', 'Indicate', 'by', 'check', 'mark', 'whether', 'the', 'registrant', 'is', 'a', 'shell', 'company', 'a', 'defined', 'in', 'Rule', 'b', 'of', 'the', 'Exchange', 'Act', 'Yes', 'No', 'x', 'Indicate', 'the', 'number', 'of', 'share', 'outstanding', 'of', 'each', 'of', 'the', 'issuer', 's', 'class', 'of', 'common', 'stock', 'a', 'of', 'the', 'latest', 'practicable', 'date', 'The', 'number', 'of', 'share', 'outstanding', 'of', 'each', 'of', 'the', 'issuer', 's', 'class', 'of', 'common', 'stock', 'a', 'of', 'the', 'close', 'of', 'business', 'on', 'January', 'wa', 'a', 'follows', 'Class', 'Number', 'of', 'Shares', 'Common', 'Stock', 'per', 'share', 'par', 'value', 'QUALCOMM', 'INCORPORATED', 'Form', 'Q', 'For', 'the', 'Quarter', 'Ended', 'December', 'DATA', 'TABLE', 'REMOVED', 'PART', 'I', 'FINANCIAL', 'INFORMATION', 'ITEM', 'CONDENSED', 'CONSOLIDATED', 'FINANCIAL', 'STATEMENTS', 'UNAUDITED', 'QUALCOMM', 'Incorporated', 'CONDENSED', 'CONSOLIDATED', 'BALANCE', 'SHEETS', 'In', 'million', 'except', 'per', 'share', 'data', 'Unaudited', 'DATA', 'TABLE', 'REMOVED', 'See', 'accompanying', 'note', 'QUALCOMM', 'Incorporated', 'CONDENSED', 'CONSOLIDATED', 'STATEMENTS', 'OF', 'OPERATIONS', 'In', 'million', 'except', 'per', 'share', 'data', 'Unaudited', 'DATA', 'TABLE', 'REMOV']\n",
      "\n",
      "Lemmatized (without stop words) text:\n",
      "['Document', 'UNITED', 'STATES', 'SECURITIES', 'EXCHANGE', 'COMMISSION', 'WASHINGTON', 'C', 'FORM', 'Q', 'Mark', 'one', 'xQUARTERLY', 'REPORT', 'PURSUANT', 'SECTION', 'SECURITIES', 'EXCHANGE', 'ACT', 'quarterly', 'period', 'ended', 'December', 'oTRANSITION', 'REPORT', 'PURSUANT', 'SECTION', 'SECURITIES', 'EXCHANGE', 'ACT', 'transition', 'period', 'Commission', 'File', 'Number', 'QUALCOMM', 'Incorporated', 'Exact', 'name', 'registrant', 'specified', 'charter', 'DATA', 'TABLE', 'REMOVED', 'Registrant', 'telephone', 'number', 'including', 'area', 'code', 'Indicate', 'check', 'mark', 'whether', 'registrant', 'ha', 'filed', 'report', 'required', 'filed', 'Section', 'Securities', 'Exchange', 'Act', 'preceding', 'month', 'shorter', 'period', 'registrant', 'wa', 'required', 'file', 'report', 'ha', 'subject', 'filing', 'requirement', 'past', 'day', 'Yes', 'x', 'Indicate', 'check', 'mark', 'whether', 'registrant', 'ha', 'submitted', 'electronically', 'posted', 'corporate', 'Web', 'site', 'every', 'Interactive', 'Data', 'File', 'required', 'submitted', 'posted', 'pursuant', 'Rule', 'Regulation', 'chapter', 'preceding', 'month', 'shorter', 'period', 'registrant', 'wa', 'required', 'submit', 'post', 'file', 'Yes', 'x', 'Indicate', 'check', 'mark', 'whether', 'registrant', 'large', 'accelerated', 'filer', 'accelerated', 'filer', 'non', 'accelerated', 'filer', 'smaller', 'reporting', 'company', 'emerging', 'growth', 'company', 'See', 'definition', 'large', 'accelerated', 'filer', 'accelerated', 'filer', 'smaller', 'reporting', 'company', 'emerging', 'growth', 'company', 'Rule', 'b', 'Exchange', 'Act', 'Check', 'one', 'DATA', 'TABLE', 'REMOVED', 'emerging', 'growth', 'company', 'indicate', 'check', 'mark', 'registrant', 'ha', 'elected', 'use', 'extended', 'transition', 'period', 'complying', 'new', 'revised', 'financial', 'accounting', 'standard', 'provided', 'pursuant', 'Section', 'Exchange', 'Act', 'Indicate', 'check', 'mark', 'whether', 'registrant', 'shell', 'company', 'defined', 'Rule', 'b', 'Exchange', 'Act', 'Yes', 'x', 'Indicate', 'number', 'share', 'outstanding', 'issuer', 'class', 'common', 'stock', 'latest', 'practicable', 'date', 'number', 'share', 'outstanding', 'issuer', 'class', 'common', 'stock', 'close', 'business', 'January', 'wa', 'follows', 'Class', 'Number', 'Shares', 'Common', 'Stock', 'per', 'share', 'par', 'value', 'QUALCOMM', 'INCORPORATED', 'Form', 'Q', 'Quarter', 'Ended', 'December', 'DATA', 'TABLE', 'REMOVED', 'PART', 'FINANCIAL', 'INFORMATION', 'ITEM', 'CONDENSED', 'CONSOLIDATED', 'FINANCIAL', 'STATEMENTS', 'UNAUDITED', 'QUALCOMM', 'Incorporated', 'CONDENSED', 'CONSOLIDATED', 'BALANCE', 'SHEETS', 'million', 'except', 'per', 'share', 'data', 'Unaudited', 'DATA', 'TABLE', 'REMOVED', 'See', 'accompanying', 'note', 'QUALCOMM', 'Incorporated', 'CONDENSED', 'CONSOLIDATED', 'STATEMENTS', 'OPERATIONS', 'million', 'except', 'per', 'share', 'data', 'Unaudited', 'DATA', 'TABLE', 'REMOV']\n"
     ]
    }
   ],
   "source": [
    "tokenized = re.findall('[a-zA-Z]+', condensed_text)\n",
    "print('Total tokenized words:', len(tokenized))\n",
    "\n",
    "stemmer = PorterStemmer()\n",
    "stemmed = [stemmer.stem(token) for token in tokenized]\n",
    "print('Total stemmed words:', len(stemmed))\n",
    "\n",
    "lemmatizer = WordNetLemmatizer()\n",
    "lemmatized = [lemmatizer.lemmatize(token) for token in tokenized]\n",
    "print('Total lemmatized words:', len(lemmatized))\n",
    "\n",
    "stop_words = stopwords.words('english')\n",
    "new_lemmatized = [token for token in lemmatized if token.lower() not in stop_words]\n",
    "print('Total tokenized (w/out stop words) words:', len(new_lemmatized))\n",
    "\n",
    "bag_of_words = Counter(new_lemmatized)\n",
    "#print(bag_of_words)\n",
    "\n",
    "print(\"Stemmed text:\")\n",
    "print(stemmed)\n",
    "print(\"\\nLemmatized text:\")\n",
    "print(lemmatized)\n",
    "print(\"\\nLemmatized (without stop words) text:\")\n",
    "print(new_lemmatized)\n"
   ]
  },
  {
   "cell_type": "code",
   "execution_count": 83,
   "metadata": {},
   "outputs": [
    {
     "name": "stdout",
     "output_type": "stream",
     "text": [
      "Looking Glass Bigrams:\n",
      "[(('of', 'the'), 10), (('the', 'registrant'), 7), (('exchange', 'act'), 6), (('indicate', 'by'), 5), (('by', 'check'), 5), (('check', 'mark'), 5), (('accelerated', 'filer'), 5), (('pursuant', 'to'), 4), (('section', '13'), 4), (('for', 'the'), 4)]\n",
      "\n",
      "Looking Glass Trigrams:\n",
      "[(('indicate', 'by', 'check'), 5), (('by', 'check', 'mark'), 5), (('check', 'mark', 'whether'), 4), (('mark', 'whether', 'the'), 4), (('whether', 'the', 'registrant'), 4), (('pursuant', 'to', 'section'), 3), (('to', 'section', '13'), 3), (('section', '13', 'or'), 3), (('13', 'or', '15'), 3), (('or', '15', 'd'), 3)]\n",
      "\n",
      "Looking Glass n-grams:\n",
      "[(('indicate', 'by', 'check', 'mark', 'whether'), 4), (('by', 'check', 'mark', 'whether', 'the'), 4), (('check', 'mark', 'whether', 'the', 'registrant'), 4), (('section', '13', 'or', '15', 'd'), 3), (('13', 'or', '15', 'd', 'of'), 3), (('or', '15', 'd', 'of', 'the'), 3), (('15', 'd', 'of', 'the', 'securities'), 3), (('d', 'of', 'the', 'securities', 'exchange'), 3), (('of', 'the', 'securities', 'exchange', 'act'), 3), (('the', 'securities', 'exchange', 'act', 'of'), 3)]\n"
     ]
    }
   ],
   "source": [
    "cleaned = re.sub('\\W+', ' ', condensed_text).lower()\n",
    "tokenized = word_tokenize(cleaned)\n",
    "\n",
    "bigrams = bigrams(tokenized)\n",
    "bigrams_frequency = Counter(bigrams)\n",
    "\n",
    "# Change the n value to 3:\n",
    "trigrams = trigrams(tokenized)\n",
    "trigrams_frequency = Counter(trigrams)\n",
    "\n",
    "# Change the n value to a number greater than 3:\n",
    "ngrams = ngrams(tokenized, 5)\n",
    "ngrams_frequency = Counter(ngrams)\n",
    "\n",
    "# Change the n value to a number greater than 3:\n",
    "print(\"Looking Glass Bigrams:\")\n",
    "print(bigrams_frequency.most_common(10))\n",
    "\n",
    "print(\"\\nLooking Glass Trigrams:\")\n",
    "print(trigrams_frequency.most_common(10))\n",
    "\n",
    "print(\"\\nLooking Glass n-grams:\")\n",
    "print(ngrams_frequency.most_common(10))"
   ]
  }
 ],
 "metadata": {
  "kernelspec": {
   "display_name": "Python 3",
   "language": "python",
   "name": "python3"
  },
  "language_info": {
   "codemirror_mode": {
    "name": "ipython",
    "version": 3
   },
   "file_extension": ".py",
   "mimetype": "text/x-python",
   "name": "python",
   "nbconvert_exporter": "python",
   "pygments_lexer": "ipython3",
   "version": "3.7.4"
  },
  "pycharm": {
   "stem_cell": {
    "cell_type": "raw",
    "metadata": {
     "collapsed": false
    },
    "source": []
   }
  }
 },
 "nbformat": 4,
 "nbformat_minor": 1
}
