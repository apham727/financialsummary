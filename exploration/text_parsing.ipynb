{
 "cells": [
  {
   "cell_type": "code",
   "execution_count": 2,
   "metadata": {
    "pycharm": {
     "is_executing": false
    }
   },
   "outputs": [],
   "source": [
    "import re\n",
    "from nltk.tokenize import word_tokenize\n",
    "from nltk.stem import PorterStemmer\n",
    "from nltk.stem import WordNetLemmatizer\n",
    "from nltk.corpus import stopwords\n",
    "\n",
    "from nltk.util import bigrams, trigrams, ngrams\n",
    "\n",
    "from collections import Counter"
   ]
  },
  {
   "cell_type": "code",
   "execution_count": 3,
   "metadata": {
    "pycharm": {
     "is_executing": false,
     "name": "#%%\n"
    }
   },
   "outputs": [],
   "source": [
    "text_file = open('resources/full_text/AAPL_0000320193_10Q_20171230_AllItems_excerpt.txt', encoding='utf-8').read()\n",
    "condensed_text = text_file[0:3000]"
   ]
  },
  {
   "cell_type": "code",
   "execution_count": 4,
   "metadata": {
    "pycharm": {
     "is_executing": false,
     "name": "#%%\n"
    }
   },
   "outputs": [
    {
     "name": "stdout",
     "text": [
      "Total tokenized words: 408\n",
      "Total stemmed words: 408\n",
      "Total lemmatized words: 408\n",
      "Total tokenized (w/out stop words) words: 284\n",
      "Stemmed text:\n",
      "['document', 'unit', 'state', 'secur', 'and', 'exchang', 'commiss', 'for', 'the', 'quarterli', 'period', 'end', 'decemb', 'or', 'for', 'the', 'transit', 'period', 'from', 'to', 'appl', 'inc', 'indic', 'by', 'check', 'mark', 'whether', 'the', 'registr', 'ha', 'file', 'all', 'report', 'requir', 'to', 'be', 'file', 'by', 'section', 'or', 'd', 'of', 'the', 'secur', 'exchang', 'act', 'of', 'dure', 'the', 'preced', 'month', 'or', 'for', 'such', 'shorter', 'period', 'that', 'the', 'registr', 'wa', 'requir', 'to', 'file', 'such', 'report', 'and', 'ha', 'been', 'subject', 'to', 'such', 'file', 'requir', 'for', 'the', 'past', 'day', 'indic', 'by', 'check', 'mark', 'whether', 'the', 'registr', 'ha', 'submit', 'electron', 'and', 'post', 'on', 'it', 'corpor', 'web', 'site', 'if', 'ani', 'everi', 'interact', 'data', 'file', 'requir', 'to', 'be', 'submit', 'and', 'post', 'pursuant', 'to', 'rule', 'of', 'regul', 'S', 'T', 'of', 'thi', 'chapter', 'dure', 'the', 'preced', 'month', 'or', 'for', 'such', 'shorter', 'period', 'that', 'the', 'registr', 'wa', 'requir', 'to', 'submit', 'and', 'post', 'such', 'file', 'indic', 'by', 'check', 'mark', 'whether', 'the', 'registr', 'is', 'a', 'larg', 'acceler', 'filer', 'an', 'acceler', 'filer', 'a', 'non', 'acceler', 'filer', 'smaller', 'report', 'compani', 'or', 'an', 'emerg', 'growth', 'compani', 'see', 'the', 'definit', 'of', 'larg', 'acceler', 'filer', 'acceler', 'filer', 'smaller', 'report', 'compani', 'and', 'emerg', 'growth', 'compani', 'in', 'rule', 'b', 'of', 'the', 'exchang', 'act', 'indic', 'by', 'check', 'mark', 'whether', 'the', 'registr', 'is', 'a', 'shell', 'compani', 'as', 'defin', 'in', 'rule', 'b', 'of', 'the', 'exchang', 'act', 'share', 'of', 'common', 'stock', 'par', 'valu', 'per', 'share', 'issu', 'and', 'outstand', 'as', 'of', 'januari', 'appl', 'inc', 'for', 'the', 'fiscal', 'quarter', 'end', 'decemb', 'part', 'I', 'financi', 'inform', 'item', 'financi', 'statement', 'appl', 'inc', 'condens', 'consolid', 'statement', 'OF', 'oper', 'unaudit', 'see', 'accompani', 'note', 'to', 'condens', 'consolid', 'financi', 'statement', 'appl', 'inc', 'condens', 'consolid', 'statement', 'OF', 'comprehens', 'incom', 'unaudit', 'see', 'accompani', 'note', 'to', 'condens', 'consolid', 'financi', 'statement', 'appl', 'inc', 'condens', 'consolid', 'balanc', 'sheet', 'unaudit', 'see', 'accompani', 'note', 'to', 'condens', 'consolid', 'financi', 'statement', 'appl', 'inc', 'condens', 'consolid', 'statement', 'OF', 'cash', 'flow', 'unaudit', 'see', 'accompani', 'note', 'to', 'condens', 'consolid', 'financi', 'statement', 'appl', 'inc', 'note', 'to', 'condens', 'consolid', 'financi', 'statement', 'unaudit', 'note', 'summari', 'of', 'signific', 'account', 'polici', 'appl', 'inc', 'and', 'it', 'wholli', 'own', 'subsidiari', 'collect', 'appl', 'or', 'the', 'compani', 'design', 'manufactur', 'and', 'market', 'mobil', 'commun', 'and', 'media', 'devic', 'and', 'person', 'comput', 'and', 'sell', 'a', 'varieti', 'of', 'relat', 'softwar', 'servic', 'accessori', 'network', 'solut', 'and', 'third', 'parti', 'digit', 'content', 'and', 'applic', 'the', 'compani', 's', 'product', 'and', 'servic', 'includ', 'iphon', 'ipad', 'mac', 'appl', 'watch', 'appl', 'TV', 'a', 'portfolio', 'of', 'consum', 'and', 'profession', 'softwar', 'applic', 'io', 'maco', 'watcho', 'and', 'tvo', 'oper', 'system', 'icloud', 'appl', 'pay', 'and', 'a', 'varieti', 'of', 'accessori', 'servic', 'and', 'support', 'offer', 'the', 'compani', 'sell', 'and', 'deliv', 'digit', 'content', 'and', 'applic', 'thro']\n",
      "\n",
      "Lemmatized text:\n",
      "['Document', 'UNITED', 'STATES', 'SECURITIES', 'AND', 'EXCHANGE', 'COMMISSION', 'For', 'the', 'quarterly', 'period', 'ended', 'December', 'or', 'For', 'the', 'transition', 'period', 'from', 'to', 'Apple', 'Inc', 'Indicate', 'by', 'check', 'mark', 'whether', 'the', 'Registrant', 'ha', 'filed', 'all', 'report', 'required', 'to', 'be', 'filed', 'by', 'Section', 'or', 'd', 'of', 'the', 'Securities', 'Exchange', 'Act', 'of', 'during', 'the', 'preceding', 'month', 'or', 'for', 'such', 'shorter', 'period', 'that', 'the', 'Registrant', 'wa', 'required', 'to', 'file', 'such', 'report', 'and', 'ha', 'been', 'subject', 'to', 'such', 'filing', 'requirement', 'for', 'the', 'past', 'day', 'Indicate', 'by', 'check', 'mark', 'whether', 'the', 'Registrant', 'ha', 'submitted', 'electronically', 'and', 'posted', 'on', 'it', 'corporate', 'Web', 'site', 'if', 'any', 'every', 'Interactive', 'Data', 'File', 'required', 'to', 'be', 'submitted', 'and', 'posted', 'pursuant', 'to', 'Rule', 'of', 'Regulation', 'S', 'T', 'of', 'this', 'chapter', 'during', 'the', 'preceding', 'month', 'or', 'for', 'such', 'shorter', 'period', 'that', 'the', 'Registrant', 'wa', 'required', 'to', 'submit', 'and', 'post', 'such', 'file', 'Indicate', 'by', 'check', 'mark', 'whether', 'the', 'Registrant', 'is', 'a', 'large', 'accelerated', 'filer', 'an', 'accelerated', 'filer', 'a', 'non', 'accelerated', 'filer', 'smaller', 'reporting', 'company', 'or', 'an', 'emerging', 'growth', 'company', 'See', 'the', 'definition', 'of', 'large', 'accelerated', 'filer', 'accelerated', 'filer', 'smaller', 'reporting', 'company', 'and', 'emerging', 'growth', 'company', 'in', 'Rule', 'b', 'of', 'the', 'Exchange', 'Act', 'Indicate', 'by', 'check', 'mark', 'whether', 'the', 'Registrant', 'is', 'a', 'shell', 'company', 'a', 'defined', 'in', 'Rule', 'b', 'of', 'the', 'Exchange', 'Act', 'share', 'of', 'common', 'stock', 'par', 'value', 'per', 'share', 'issued', 'and', 'outstanding', 'a', 'of', 'January', 'Apple', 'Inc', 'For', 'the', 'Fiscal', 'Quarter', 'Ended', 'December', 'PART', 'I', 'FINANCIAL', 'INFORMATION', 'Item', 'Financial', 'Statements', 'Apple', 'Inc', 'CONDENSED', 'CONSOLIDATED', 'STATEMENTS', 'OF', 'OPERATIONS', 'Unaudited', 'See', 'accompanying', 'Notes', 'to', 'Condensed', 'Consolidated', 'Financial', 'Statements', 'Apple', 'Inc', 'CONDENSED', 'CONSOLIDATED', 'STATEMENTS', 'OF', 'COMPREHENSIVE', 'INCOME', 'Unaudited', 'See', 'accompanying', 'Notes', 'to', 'Condensed', 'Consolidated', 'Financial', 'Statements', 'Apple', 'Inc', 'CONDENSED', 'CONSOLIDATED', 'BALANCE', 'SHEETS', 'Unaudited', 'See', 'accompanying', 'Notes', 'to', 'Condensed', 'Consolidated', 'Financial', 'Statements', 'Apple', 'Inc', 'CONDENSED', 'CONSOLIDATED', 'STATEMENTS', 'OF', 'CASH', 'FLOWS', 'Unaudited', 'See', 'accompanying', 'Notes', 'to', 'Condensed', 'Consolidated', 'Financial', 'Statements', 'Apple', 'Inc', 'Notes', 'to', 'Condensed', 'Consolidated', 'Financial', 'Statements', 'Unaudited', 'Note', 'Summary', 'of', 'Significant', 'Accounting', 'Policies', 'Apple', 'Inc', 'and', 'it', 'wholly', 'owned', 'subsidiary', 'collectively', 'Apple', 'or', 'the', 'Company', 'design', 'manufacture', 'and', 'market', 'mobile', 'communication', 'and', 'medium', 'device', 'and', 'personal', 'computer', 'and', 'sell', 'a', 'variety', 'of', 'related', 'software', 'service', 'accessory', 'networking', 'solution', 'and', 'third', 'party', 'digital', 'content', 'and', 'application', 'The', 'Company', 's', 'product', 'and', 'service', 'include', 'iPhone', 'iPad', 'Mac', 'Apple', 'Watch', 'Apple', 'TV', 'a', 'portfolio', 'of', 'consumer', 'and', 'professional', 'software', 'application', 'iOS', 'macOS', 'watchOS', 'and', 'tvOS', 'operating', 'system', 'iCloud', 'Apple', 'Pay', 'and', 'a', 'variety', 'of', 'accessory', 'service', 'and', 'support', 'offering', 'The', 'Company', 'sell', 'and', 'delivers', 'digital', 'content', 'and', 'application', 'thro']\n",
      "\n",
      "Lemmatized (without stop words) text:\n",
      "['Document', 'UNITED', 'STATES', 'SECURITIES', 'EXCHANGE', 'COMMISSION', 'quarterly', 'period', 'ended', 'December', 'transition', 'period', 'Apple', 'Inc', 'Indicate', 'check', 'mark', 'whether', 'Registrant', 'ha', 'filed', 'report', 'required', 'filed', 'Section', 'Securities', 'Exchange', 'Act', 'preceding', 'month', 'shorter', 'period', 'Registrant', 'wa', 'required', 'file', 'report', 'ha', 'subject', 'filing', 'requirement', 'past', 'day', 'Indicate', 'check', 'mark', 'whether', 'Registrant', 'ha', 'submitted', 'electronically', 'posted', 'corporate', 'Web', 'site', 'every', 'Interactive', 'Data', 'File', 'required', 'submitted', 'posted', 'pursuant', 'Rule', 'Regulation', 'chapter', 'preceding', 'month', 'shorter', 'period', 'Registrant', 'wa', 'required', 'submit', 'post', 'file', 'Indicate', 'check', 'mark', 'whether', 'Registrant', 'large', 'accelerated', 'filer', 'accelerated', 'filer', 'non', 'accelerated', 'filer', 'smaller', 'reporting', 'company', 'emerging', 'growth', 'company', 'See', 'definition', 'large', 'accelerated', 'filer', 'accelerated', 'filer', 'smaller', 'reporting', 'company', 'emerging', 'growth', 'company', 'Rule', 'b', 'Exchange', 'Act', 'Indicate', 'check', 'mark', 'whether', 'Registrant', 'shell', 'company', 'defined', 'Rule', 'b', 'Exchange', 'Act', 'share', 'common', 'stock', 'par', 'value', 'per', 'share', 'issued', 'outstanding', 'January', 'Apple', 'Inc', 'Fiscal', 'Quarter', 'Ended', 'December', 'PART', 'FINANCIAL', 'INFORMATION', 'Item', 'Financial', 'Statements', 'Apple', 'Inc', 'CONDENSED', 'CONSOLIDATED', 'STATEMENTS', 'OPERATIONS', 'Unaudited', 'See', 'accompanying', 'Notes', 'Condensed', 'Consolidated', 'Financial', 'Statements', 'Apple', 'Inc', 'CONDENSED', 'CONSOLIDATED', 'STATEMENTS', 'COMPREHENSIVE', 'INCOME', 'Unaudited', 'See', 'accompanying', 'Notes', 'Condensed', 'Consolidated', 'Financial', 'Statements', 'Apple', 'Inc', 'CONDENSED', 'CONSOLIDATED', 'BALANCE', 'SHEETS', 'Unaudited', 'See', 'accompanying', 'Notes', 'Condensed', 'Consolidated', 'Financial', 'Statements', 'Apple', 'Inc', 'CONDENSED', 'CONSOLIDATED', 'STATEMENTS', 'CASH', 'FLOWS', 'Unaudited', 'See', 'accompanying', 'Notes', 'Condensed', 'Consolidated', 'Financial', 'Statements', 'Apple', 'Inc', 'Notes', 'Condensed', 'Consolidated', 'Financial', 'Statements', 'Unaudited', 'Note', 'Summary', 'Significant', 'Accounting', 'Policies', 'Apple', 'Inc', 'wholly', 'owned', 'subsidiary', 'collectively', 'Apple', 'Company', 'design', 'manufacture', 'market', 'mobile', 'communication', 'medium', 'device', 'personal', 'computer', 'sell', 'variety', 'related', 'software', 'service', 'accessory', 'networking', 'solution', 'third', 'party', 'digital', 'content', 'application', 'Company', 'product', 'service', 'include', 'iPhone', 'iPad', 'Mac', 'Apple', 'Watch', 'Apple', 'TV', 'portfolio', 'consumer', 'professional', 'software', 'application', 'iOS', 'macOS', 'watchOS', 'tvOS', 'operating', 'system', 'iCloud', 'Apple', 'Pay', 'variety', 'accessory', 'service', 'support', 'offering', 'Company', 'sell', 'delivers', 'digital', 'content', 'application', 'thro']\n"
     ],
     "output_type": "stream"
    }
   ],
   "source": [
    "tokenized = re.findall('[a-zA-Z]+', condensed_text)\n",
    "print('Total tokenized words:', len(tokenized))\n",
    "\n",
    "stemmer = PorterStemmer()\n",
    "stemmed = [stemmer.stem(token) for token in tokenized]\n",
    "print('Total stemmed words:', len(stemmed))\n",
    "\n",
    "lemmatizer = WordNetLemmatizer()\n",
    "lemmatized = [lemmatizer.lemmatize(token) for token in tokenized]\n",
    "print('Total lemmatized words:', len(lemmatized))\n",
    "\n",
    "stop_words = stopwords.words('english')\n",
    "new_lemmatized = [token for token in lemmatized if token.lower() not in stop_words]\n",
    "print('Total tokenized (w/out stop words) words:', len(new_lemmatized))\n",
    "\n",
    "bag_of_words = Counter(new_lemmatized)\n",
    "#print(bag_of_words)\n",
    "\n",
    "print(\"Stemmed text:\")\n",
    "print(stemmed)\n",
    "print(\"\\nLemmatized text:\")\n",
    "print(lemmatized)\n",
    "print(\"\\nLemmatized (without stop words) text:\")\n",
    "print(new_lemmatized)\n"
   ]
  },
  {
   "cell_type": "code",
   "execution_count": 5,
   "metadata": {
    "pycharm": {
     "is_executing": false
    }
   },
   "outputs": [
    {
     "name": "stdout",
     "text": [
      "Looking Glass Bigrams:\n",
      "[(('condensed', 'consolidated'), 9), (('apple', 'inc'), 8), (('the', 'registrant'), 6), (('financial', 'statements'), 6), (('accelerated', 'filer'), 5), (('statements', 'apple'), 5), (('notes', 'to'), 5), (('to', 'condensed'), 5), (('consolidated', 'financial'), 5), (('for', 'the'), 4)]\n",
      "\n",
      "Looking Glass Trigrams:\n",
      "[(('financial', 'statements', 'apple'), 5), (('statements', 'apple', 'inc'), 5), (('notes', 'to', 'condensed'), 5), (('to', 'condensed', 'consolidated'), 5), (('condensed', 'consolidated', 'financial'), 5), (('consolidated', 'financial', 'statements'), 5), (('indicate', 'by', 'check'), 4), (('by', 'check', 'mark'), 4), (('check', 'mark', 'whether'), 4), (('mark', 'whether', 'the'), 4)]\n",
      "\n",
      "Looking Glass n-grams:\n",
      "[(('notes', 'to', 'condensed', 'consolidated', 'financial'), 5), (('to', 'condensed', 'consolidated', 'financial', 'statements'), 5), (('indicate', 'by', 'check', 'mark', 'whether'), 4), (('by', 'check', 'mark', 'whether', 'the'), 4), (('check', 'mark', 'whether', 'the', 'registrant'), 4), (('financial', 'statements', 'apple', 'inc', 'condensed'), 4), (('statements', 'apple', 'inc', 'condensed', 'consolidated'), 4), (('unaudited', 'see', 'accompanying', 'notes', 'to'), 4), (('see', 'accompanying', 'notes', 'to', 'condensed'), 4), (('accompanying', 'notes', 'to', 'condensed', 'consolidated'), 4)]\n"
     ],
     "output_type": "stream"
    }
   ],
   "source": [
    "cleaned = re.sub('\\W+', ' ', condensed_text).lower()\n",
    "tokenized = word_tokenize(cleaned)\n",
    "\n",
    "bigrams = bigrams(tokenized)\n",
    "bigrams_frequency = Counter(bigrams)\n",
    "\n",
    "# Change the n value to 3:\n",
    "trigrams = trigrams(tokenized)\n",
    "trigrams_frequency = Counter(trigrams)\n",
    "\n",
    "# Change the n value to a number greater than 3:\n",
    "ngrams = ngrams(tokenized, 5)\n",
    "ngrams_frequency = Counter(ngrams)\n",
    "\n",
    "# Change the n value to a number greater than 3:\n",
    "print(\"Looking Glass Bigrams:\")\n",
    "print(bigrams_frequency.most_common(10))\n",
    "\n",
    "print(\"\\nLooking Glass Trigrams:\")\n",
    "print(trigrams_frequency.most_common(10))\n",
    "\n",
    "print(\"\\nLooking Glass n-grams:\")\n",
    "print(ngrams_frequency.most_common(10))\n"
   ]
  }
 ],
 "metadata": {
  "kernelspec": {
   "display_name": "Python 3",
   "language": "python",
   "name": "python3"
  },
  "language_info": {
   "codemirror_mode": {
    "name": "ipython",
    "version": 3
   },
   "file_extension": ".py",
   "mimetype": "text/x-python",
   "name": "python",
   "nbconvert_exporter": "python",
   "pygments_lexer": "ipython3",
   "version": "3.7.4"
  },
  "pycharm": {
   "stem_cell": {
    "cell_type": "raw",
    "source": [],
    "metadata": {
     "collapsed": false
    }
   }
  }
 },
 "nbformat": 4,
 "nbformat_minor": 1
}