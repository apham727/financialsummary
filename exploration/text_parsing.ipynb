{
 "cells": [
  {
   "cell_type": "code",
   "execution_count": 1,
   "metadata": {
    "pycharm": {
     "is_executing": false
    }
   },
   "outputs": [],
   "source": [
    "import re\n",
    "import nltk\n",
    "from nltk.tokenize import word_tokenize\n",
    "from nltk.stem import PorterStemmer\n",
    "from nltk.stem import WordNetLemmatizer\n",
    "from nltk.corpus import stopwords\n",
    "\n",
    "from nltk.util import bigrams, trigrams, ngrams\n",
    "\n",
    "from collections import Counter"
   ]
  },
  {
   "cell_type": "code",
   "execution_count": 2,
   "metadata": {
    "pycharm": {
     "is_executing": false,
     "name": "#%%\n"
    }
   },
   "outputs": [
    {
     "traceback": [
      "\u001b[0;31m---------------------------------------------------------------------------\u001b[0m",
      "\u001b[0;31mFileNotFoundError\u001b[0m                         Traceback (most recent call last)",
      "\u001b[0;32m<ipython-input-2-5f94942f9edf>\u001b[0m in \u001b[0;36m<module>\u001b[0;34m\u001b[0m\n\u001b[0;32m----> 1\u001b[0;31m \u001b[0mtext_file\u001b[0m \u001b[0;34m=\u001b[0m \u001b[0mopen\u001b[0m\u001b[0;34m(\u001b[0m\u001b[0;34m'C:/Users/jsbae/Downloads/Qualcomm text data/QCOM_0000804328_10Q_20171224_AllItems_excerpt.txt'\u001b[0m\u001b[0;34m,\u001b[0m \u001b[0mencoding\u001b[0m\u001b[0;34m=\u001b[0m\u001b[0;34m'utf-8'\u001b[0m\u001b[0;34m)\u001b[0m\u001b[0;34m.\u001b[0m\u001b[0mread\u001b[0m\u001b[0;34m(\u001b[0m\u001b[0;34m)\u001b[0m\u001b[0;34m\u001b[0m\u001b[0;34m\u001b[0m\u001b[0m\n\u001b[0m\u001b[1;32m      2\u001b[0m \u001b[0mcondensed_text\u001b[0m \u001b[0;34m=\u001b[0m \u001b[0mtext_file\u001b[0m\u001b[0;34m[\u001b[0m\u001b[0;36m0\u001b[0m\u001b[0;34m:\u001b[0m\u001b[0;36m3000\u001b[0m\u001b[0;34m]\u001b[0m\u001b[0;34m\u001b[0m\u001b[0;34m\u001b[0m\u001b[0m\n\u001b[1;32m      3\u001b[0m \u001b[0;34m\u001b[0m\u001b[0m\n",
      "\u001b[0;31mFileNotFoundError\u001b[0m: [Errno 2] No such file or directory: 'C:/Users/jsbae/Downloads/Qualcomm text data/QCOM_0000804328_10Q_20171224_AllItems_excerpt.txt'"
     ],
     "ename": "FileNotFoundError",
     "evalue": "[Errno 2] No such file or directory: 'C:/Users/jsbae/Downloads/Qualcomm text data/QCOM_0000804328_10Q_20171224_AllItems_excerpt.txt'",
     "output_type": "error"
    }
   ],
   "source": [
    "text_file = open('C:/Users/jsbae/Downloads/Qualcomm text data/QCOM_0000804328_10Q_20171224_AllItems_excerpt.txt', encoding='utf-8').read()\n",
    "condensed_text = text_file[0:3000]"
   ]
  },
  {
   "cell_type": "code",
   "execution_count": null,
   "metadata": {
    "pycharm": {
     "is_executing": false,
     "name": "#%%\n"
    }
   },
   "outputs": [],
   "source": [
    "tokenized = re.findall('[a-zA-Z]+', condensed_text)\n",
    "print('Total tokenized words:', len(tokenized))\n",
    "\n",
    "stemmer = PorterStemmer()\n",
    "stemmed = [stemmer.stem(token) for token in tokenized]\n",
    "print('Total stemmed words:', len(stemmed))\n",
    "\n",
    "lemmatizer = WordNetLemmatizer()\n",
    "lemmatized = [lemmatizer.lemmatize(token) for token in tokenized]\n",
    "print('Total lemmatized words:', len(lemmatized))\n",
    "\n",
    "stop_words = stopwords.words('english')\n",
    "new_lemmatized = [token for token in lemmatized if token.lower() not in stop_words]\n",
    "print('Total tokenized (w/out stop words) words:', len(new_lemmatized))\n",
    "\n",
    "bag_of_words = Counter(new_lemmatized)\n",
    "#print(bag_of_words)\n",
    "\n",
    "print(\"Stemmed text:\")\n",
    "print(stemmed)\n",
    "print(\"\\nLemmatized text:\")\n",
    "print(lemmatized)\n",
    "print(\"\\nLemmatized (without stop words) text:\")\n",
    "print(new_lemmatized)\n"
   ]
  },
  {
   "cell_type": "code",
   "execution_count": 83,
   "metadata": {},
   "outputs": [
    {
     "name": "stdout",
     "output_type": "stream",
     "text": [
      "Looking Glass Bigrams:\n",
      "[(('of', 'the'), 10), (('the', 'registrant'), 7), (('exchange', 'act'), 6), (('indicate', 'by'), 5), (('by', 'check'), 5), (('check', 'mark'), 5), (('accelerated', 'filer'), 5), (('pursuant', 'to'), 4), (('section', '13'), 4), (('for', 'the'), 4)]\n",
      "\n",
      "Looking Glass Trigrams:\n",
      "[(('indicate', 'by', 'check'), 5), (('by', 'check', 'mark'), 5), (('check', 'mark', 'whether'), 4), (('mark', 'whether', 'the'), 4), (('whether', 'the', 'registrant'), 4), (('pursuant', 'to', 'section'), 3), (('to', 'section', '13'), 3), (('section', '13', 'or'), 3), (('13', 'or', '15'), 3), (('or', '15', 'd'), 3)]\n",
      "\n",
      "Looking Glass n-grams:\n",
      "[(('indicate', 'by', 'check', 'mark', 'whether'), 4), (('by', 'check', 'mark', 'whether', 'the'), 4), (('check', 'mark', 'whether', 'the', 'registrant'), 4), (('section', '13', 'or', '15', 'd'), 3), (('13', 'or', '15', 'd', 'of'), 3), (('or', '15', 'd', 'of', 'the'), 3), (('15', 'd', 'of', 'the', 'securities'), 3), (('d', 'of', 'the', 'securities', 'exchange'), 3), (('of', 'the', 'securities', 'exchange', 'act'), 3), (('the', 'securities', 'exchange', 'act', 'of'), 3)]\n"
     ]
    }
   ],
   "source": [
    "cleaned = re.sub('\\W+', ' ', condensed_text).lower()\n",
    "tokenized = word_tokenize(cleaned)\n",
    "\n",
    "bigrams = bigrams(tokenized)\n",
    "bigrams_frequency = Counter(bigrams)\n",
    "\n",
    "# Change the n value to 3:\n",
    "trigrams = trigrams(tokenized)\n",
    "trigrams_frequency = Counter(trigrams)\n",
    "\n",
    "# Change the n value to a number greater than 3:\n",
    "ngrams = ngrams(tokenized, 5)\n",
    "ngrams_frequency = Counter(ngrams)\n",
    "\n",
    "# Change the n value to a number greater than 3:\n",
    "print(\"Looking Glass Bigrams:\")\n",
    "print(bigrams_frequency.most_common(10))\n",
    "\n",
    "print(\"\\nLooking Glass Trigrams:\")\n",
    "print(trigrams_frequency.most_common(10))\n",
    "\n",
    "print(\"\\nLooking Glass n-grams:\")\n",
    "print(ngrams_frequency.most_common(10))"
   ]
  }
 ],
 "metadata": {
  "kernelspec": {
   "display_name": "Python 3",
   "language": "python",
   "name": "python3"
  },
  "language_info": {
   "codemirror_mode": {
    "name": "ipython",
    "version": 3
   },
   "file_extension": ".py",
   "mimetype": "text/x-python",
   "name": "python",
   "nbconvert_exporter": "python",
   "pygments_lexer": "ipython3",
   "version": "3.7.4"
  },
  "pycharm": {
   "stem_cell": {
    "cell_type": "raw",
    "metadata": {
     "collapsed": false
    },
    "source": []
   }
  }
 },
 "nbformat": 4,
 "nbformat_minor": 1
}