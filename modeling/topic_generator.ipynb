{
 "cells": [
  {
   "cell_type": "code",
   "execution_count": 2,
   "metadata": {},
   "outputs": [
    {
     "name": "stderr",
     "output_type": "stream",
     "text": [
      "[nltk_data] Downloading package wordnet to\n",
      "[nltk_data]     C:\\Users\\Aneel\\AppData\\Roaming\\nltk_data...\n",
      "[nltk_data]   Package wordnet is already up-to-date!\n",
      "[nltk_data] Downloading package stopwords to\n",
      "[nltk_data]     C:\\Users\\Aneel\\AppData\\Roaming\\nltk_data...\n",
      "[nltk_data]   Package stopwords is already up-to-date!\n"
     ]
    }
   ],
   "source": [
    "from modeling.run_model import *\n",
    "import os\n",
    "from modeling.lda import *\n"
   ]
  },
  {
   "cell_type": "code",
   "execution_count": 7,
   "metadata": {
    "pycharm": {
     "is_executing": false,
     "name": "#%%\n"
    }
   },
   "outputs": [],
   "source": [
    "with open(\"../resources/ALL_TEXT.txt\", 'r', encoding='utf-8') as f:\n",
    "    text = f.read().splitlines()\n",
    "\n",
    "all_tokens = list()\n",
    "for line in text:\n",
    "    all_tokens.append(prepare_text_for_lda(line))\n",
    "dictionary = corpora.Dictionary(all_tokens)\n",
    "corpus = [dictionary.doc2bow(text) for text in all_tokens]\n",
    "\n",
    "# pickle.dump(corpus, open('corpus.pkl', 'wb'))\n",
    "# dictionary.save('dictionary.gensim')\n",
    "NUM_TOPICS = 15\n",
    "ldamodel = gensim.models.ldamodel.LdaModel(corpus, num_topics=NUM_TOPICS, id2word=dictionary, passes=15)\n",
    "\n"
   ]
  },
  {
   "cell_type": "code",
   "execution_count": 57,
   "metadata": {},
   "outputs": [
    {
     "name": "stdout",
     "output_type": "stream",
     "text": [
      "[(0, '0.134*\"million\" + 0.098*\"month\" + 0.084*\"end\" + 0.049*\"three\"'), (1, '0.118*\"financial\" + 0.081*\"statement\" + 0.080*\"consolidate\" + 0.047*\"report\"'), (2, '0.046*\"business\" + 0.033*\"product\" + 0.031*\"could\" + 0.029*\"result\"'), (3, '0.057*\"contract\" + 0.050*\"obligation\" + 0.045*\"customer\" + 0.043*\"revenue\"'), (4, '0.083*\"lease\" + 0.033*\"accounting\" + 0.029*\"company\" + 0.028*\"standard\"'), (5, '0.105*\"sales\" + 0.076*\"increase\" + 0.057*\"revenue\" + 0.034*\"gross\"'), (6, '0.036*\"party\" + 0.033*\"software\" + 0.030*\"component\" + 0.029*\"supplier\"'), (7, '0.078*\"account\" + 0.077*\"security\" + 0.045*\"capital\" + 0.038*\"pursuant\"'), (8, '0.046*\"interest\" + 0.042*\"investment\" + 0.034*\"equity\" + 0.032*\"losses\"'), (9, '0.054*\"corporation\" + 0.047*\"foreign\" + 0.046*\"currency\" + 0.035*\"subsidiary\"'), (10, '0.103*\"share\" + 0.095*\"stock\" + 0.046*\"common\" + 0.044*\"repurchase\"'), (11, '0.070*\"assets\" + 0.052*\"value\" + 0.041*\"liabilities\" + 0.030*\"measure\"'), (12, '0.095*\"quarter\" + 0.087*\"fiscal\" + 0.062*\"september\" + 0.060*\"december\"'), (13, '0.090*\"agreement\" + 0.089*\"credit\" + 0.055*\"facility\" + 0.031*\"company\"'), (14, '0.062*\"costs\" + 0.053*\"product\" + 0.040*\"flash\" + 0.031*\"solution\"')]\n"
     ]
    }
   ],
   "source": [
    "ldamodel.save('alltext15.gensim')\n",
    "topics = ldamodel.print_topics(num_words=4)\n",
    "print(topics)\n"
   ]
  },
  {
   "cell_type": "code",
   "execution_count": 58,
   "metadata": {},
   "outputs": [],
   "source": [
    "from gensim.models import LdaModel\n",
    "test = LdaModel.load('alltext15.gensim')"
   ]
  },
  {
   "cell_type": "code",
   "execution_count": 60,
   "metadata": {},
   "outputs": [
    {
     "name": "stdout",
     "output_type": "stream",
     "text": [
      "[(0, '0.134*\"million\" + 0.098*\"month\" + 0.084*\"end\" + 0.049*\"three\"'), (1, '0.118*\"financial\" + 0.081*\"statement\" + 0.080*\"consolidate\" + 0.047*\"report\"'), (2, '0.046*\"business\" + 0.033*\"product\" + 0.031*\"could\" + 0.029*\"result\"'), (3, '0.057*\"contract\" + 0.050*\"obligation\" + 0.045*\"customer\" + 0.043*\"revenue\"'), (4, '0.083*\"lease\" + 0.033*\"accounting\" + 0.029*\"company\" + 0.028*\"standard\"'), (5, '0.105*\"sales\" + 0.076*\"increase\" + 0.057*\"revenue\" + 0.034*\"gross\"'), (6, '0.036*\"party\" + 0.033*\"software\" + 0.030*\"component\" + 0.029*\"supplier\"'), (7, '0.078*\"account\" + 0.077*\"security\" + 0.045*\"capital\" + 0.038*\"pursuant\"'), (8, '0.046*\"interest\" + 0.042*\"investment\" + 0.034*\"equity\" + 0.032*\"losses\"'), (9, '0.054*\"corporation\" + 0.047*\"foreign\" + 0.046*\"currency\" + 0.035*\"subsidiary\"'), (10, '0.103*\"share\" + 0.095*\"stock\" + 0.046*\"common\" + 0.044*\"repurchase\"'), (11, '0.070*\"assets\" + 0.052*\"value\" + 0.041*\"liabilities\" + 0.030*\"measure\"'), (12, '0.095*\"quarter\" + 0.087*\"fiscal\" + 0.062*\"september\" + 0.060*\"december\"'), (13, '0.090*\"agreement\" + 0.089*\"credit\" + 0.055*\"facility\" + 0.031*\"company\"'), (14, '0.062*\"costs\" + 0.053*\"product\" + 0.040*\"flash\" + 0.031*\"solution\"')]\n"
     ]
    }
   ],
   "source": [
    "topics = test.print_topics(num_words=4)\n",
    "print(topics)"
   ]
  },
  {
   "cell_type": "code",
   "execution_count": 62,
   "metadata": {
    "scrolled": true
   },
   "outputs": [
    {
     "name": "stdout",
     "output_type": "stream",
     "text": [
      "[0. 0. 4. 0. 1. 3. 0. 0. 0. 0. 0. 0. 2. 0. 1.]\n",
      "[3. 0. 8. 0. 0. 0. 0. 0. 0. 1. 0. 0. 0. 0. 3.]\n",
      "[4. 0. 2. 1. 1. 6. 3. 1. 0. 0. 0. 2. 2. 0. 8.]\n",
      "[3. 0. 6. 2. 0. 1. 1. 0. 0. 1. 0. 0. 0. 0. 3.]\n",
      "[1. 0. 0. 1. 1. 2. 1. 1. 0. 0. 0. 0. 0. 2. 3.]\n",
      "[0. 1. 2. 0. 0. 0. 2. 0. 0. 0. 1. 0. 0. 0. 7.]\n",
      "[1. 0. 2. 0. 0. 3. 0. 0. 0. 2. 1. 0. 1. 0. 6.]\n",
      "[5. 0. 3. 0. 0. 4. 3. 0. 0. 1. 0. 0. 1. 3. 6.]\n"
     ]
    }
   ],
   "source": [
    "VALIDATION_SET_PATH = \"../resources/validation_set\"\n",
    "\n",
    "best_topics = list()\n",
    "valid_vectors = list\n",
    "for root, dirs, files in os.walk(VALIDATION_SET_PATH):\n",
    "    for file in files:\n",
    "        doc_topics = np.zeros(15)\n",
    "        with open(os.path.join(VALIDATION_SET_PATH,file), 'r', encoding='utf-8') as f:\n",
    "            validation_doc = f.read().splitlines()\n",
    "        for line in validation_doc:\n",
    "            new_doc = prepare_text_for_lda(line)\n",
    "            new_doc_bow = dictionary.doc2bow(new_doc)\n",
    "            tmax = np.argmax([two for one, two in ldamodel.get_document_topics(new_doc_bow)])\n",
    "            sent_topic = ldamodel.get_document_topics(new_doc_bow)[tmax][0]\n",
    "            doc_topics[sent_topic] += 1\n",
    "        print(doc_topics)\n",
    "        doc_topics = doc_topics/np.linalg.norm(doc_topics)\n",
    "        best_topics.append(doc_topics)\n"
   ]
  },
  {
   "cell_type": "code",
   "execution_count": 56,
   "metadata": {},
   "outputs": [
    {
     "data": {
      "text/plain": [
       "<matplotlib.axes._subplots.AxesSubplot at 0x27ea3dfb978>"
      ]
     },
     "execution_count": 56,
     "metadata": {},
     "output_type": "execute_result"
    },
    {
     "data": {
      "image/png": "[encoded data removed]",
      "text/plain": [
       "<Figure size 432x288 with 2 Axes>"
      ]
     },
     "metadata": {
      "needs_background": "light"
     },
     "output_type": "display_data"
    }
   ],
   "source": [
    "from sklearn import metrics\n",
    "import seaborn as sns\n",
    "cosine = metrics.pairwise.cosine_similarity(best_topics)\n",
    "sns.heatmap(cosine,cmap=\"YlGnBu\")\n",
    "\n"
   ]
  },
  {
   "cell_type": "code",
   "execution_count": null,
   "metadata": {},
   "outputs": [],
   "source": []
  }
 ],
 "metadata": {
  "kernelspec": {
   "display_name": "Python 3",
   "language": "python",
   "name": "python3"
  },
  "language_info": {
   "codemirror_mode": {
    "name": "ipython",
    "version": 3
   },
   "file_extension": ".py",
   "mimetype": "text/x-python",
   "name": "python",
   "nbconvert_exporter": "python",
   "pygments_lexer": "ipython3",
   "version": "3.6.2"
  },
  "pycharm": {
   "stem_cell": {
    "cell_type": "raw",
    "metadata": {
     "collapsed": false
    },
    "source": []
   }
  }
 },
 "nbformat": 4,
 "nbformat_minor": 1
}
